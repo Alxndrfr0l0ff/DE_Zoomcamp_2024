{
 "cells": [
  {
   "cell_type": "code",
   "execution_count": 1,
   "id": "d9fddf74-b4cc-4cbc-9dd5-480ce8a866d3",
   "metadata": {},
   "outputs": [
    {
     "name": "stdout",
     "output_type": "stream",
     "text": [
      "Hello world from Codespaces!\n"
     ]
    }
   ],
   "source": [
    "print('Hello world from Codespaces!')"
   ]
  },
  {
   "cell_type": "code",
   "execution_count": null,
   "id": "8d1a418c-c3d3-4d64-b61d-1c70492d770a",
   "metadata": {},
   "outputs": [],
   "source": []
  }
 ],
 "metadata": {
  "kernelspec": {
   "display_name": "Python 3 (ipykernel)",
   "language": "python",
   "name": "python3"
  },
  "language_info": {
   "codemirror_mode": {
    "name": "ipython",
    "version": 3
   },
   "file_extension": ".py",
   "mimetype": "text/x-python",
   "name": "python",
   "nbconvert_exporter": "python",
   "pygments_lexer": "ipython3",
   "version": "3.10.13"
  }
 },
 "nbformat": 4,
 "nbformat_minor": 5
}
